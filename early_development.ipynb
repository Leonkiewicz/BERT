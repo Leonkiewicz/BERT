{
 "cells": [
  {
   "cell_type": "code",
   "execution_count": 1,
   "metadata": {},
   "outputs": [
    {
     "name": "stderr",
     "output_type": "stream",
     "text": [
      "d:\\R2G\\OpenAI\\llm_venv\\Lib\\site-packages\\tqdm\\auto.py:21: TqdmWarning: IProgress not found. Please update jupyter and ipywidgets. See https://ipywidgets.readthedocs.io/en/stable/user_install.html\n",
      "  from .autonotebook import tqdm as notebook_tqdm\n"
     ]
    }
   ],
   "source": [
    "from data.preprocessing import *\n",
    "from data.dataset import BERTDataset\n",
    "from torch.utils.data import DataLoader"
   ]
  },
  {
   "cell_type": "markdown",
   "metadata": {},
   "source": [
    "#### Explore MovieDialogs Corpus"
   ]
  },
  {
   "cell_type": "code",
   "execution_count": 2,
   "metadata": {},
   "outputs": [
    {
     "name": "stdout",
     "output_type": "stream",
     "text": [
      "Example text in movie_lines.txt:\n",
      "L1045 +++$+++ u0 +++$+++ m0 +++$+++ BIANCA +++$+++ They do not!\n",
      "L1044 +++$+++ u2 +++$+++ m0 +++$+++ CAMERON +++$+++ They do to!\n",
      "\n",
      "Example text in movie_converstations.txt:\n",
      "u0 +++$+++ u2 +++$+++ m0 +++$+++ ['L194', 'L195', 'L196', 'L197']\n",
      "u0 +++$+++ u2 +++$+++ m0 +++$+++ ['L198', 'L199']\n",
      "\n"
     ]
    }
   ],
   "source": [
    "corpus_movie_conv = 'datasets/cornell movie-dialogs corpus/movie_conversations.txt'\n",
    "corpus_movie_lines = 'datasets/cornell movie-dialogs corpus/movie_lines.txt'\n",
    "with open(corpus_movie_conv, 'r', encoding='iso-8859-1') as c:\n",
    "    conv = c.readlines()\n",
    "with open(corpus_movie_lines, 'r', encoding='iso-8859-1') as l:\n",
    "    lines = l.readlines()\n",
    "print(f\"Example text in movie_lines.txt:\\n{lines[0]}{lines[1]}\")\n",
    "print(f\"Example text in movie_converstations.txt:\\n{conv[0]}{conv[1]}\")\n",
    "\n",
    "\n",
    "# movie_lines structure\n",
    "# line_id +++$+++ character_id +++$+++ movie_id +++$+++ character_name(?) +++$+++ conversation line\n",
    "\n",
    "# movie_conversations structure\n",
    "# character_id +++$+++ reply_to_id (spoken to) +++$+++ movie_id +++$+++ line_ids"
   ]
  },
  {
   "cell_type": "code",
   "execution_count": 3,
   "metadata": {},
   "outputs": [
    {
     "name": "stdout",
     "output_type": "stream",
     "text": [
      "Skipping L474 as it's missing text: ['L474', 'u5', 'm0', 'KAT +++$+++']\n",
      "Skipping L24609 as it's missing text: ['L24609', 'u224', 'm14', 'SYKES +++$+++']\n",
      "Skipping L239088 as it's missing text: ['L239088', 'u1125', 'm74', 'JANOSZ +++$+++']\n",
      "Skipping L283548 as it's missing text: ['L283548', 'u1356', 'm90', 'BRUCE +++$+++']\n"
     ]
    }
   ],
   "source": [
    "pairs, lines_dict = prepare_qa_pairs(lines, conv)"
   ]
  },
  {
   "cell_type": "markdown",
   "metadata": {},
   "source": [
    "##### WordPiece tokenizer"
   ]
  },
  {
   "cell_type": "code",
   "execution_count": 15,
   "metadata": {},
   "outputs": [],
   "source": [
    "# BERT uses WordPiece embeddings with 30k token vocabulary\n",
    "# The first token of every sequence is always a special classification token ([CLS])\n",
    "# Sentence pairs are packed together into a single sequence.\n",
    "# They are separated with special token ([SEP]), also a learned embedding is added to every token, which indicates if it belongs to sentence A or Sentence B"
   ]
  },
  {
   "cell_type": "code",
   "execution_count": null,
   "metadata": {},
   "outputs": [
    {
     "name": "stderr",
     "output_type": "stream",
     "text": [
      "100%|██████████| 221282/221282 [00:00<00:00, 4338852.68it/s]\n"
     ]
    }
   ],
   "source": [
    "prepare_text_batches(pairs)"
   ]
  },
  {
   "cell_type": "code",
   "execution_count": null,
   "metadata": {},
   "outputs": [],
   "source": [
    "chunk_paths = [os.path.join('./datasets/MovieDialogsChunks/', x) for x in os.listdir('./datasets/MovieDialogsChunks')]\n",
    "train_tokenizer(chunk_paths)"
   ]
  },
  {
   "cell_type": "markdown",
   "metadata": {},
   "source": [
    "#### Validate pre-training data prep"
   ]
  },
  {
   "cell_type": "code",
   "execution_count": 5,
   "metadata": {},
   "outputs": [
    {
     "name": "stderr",
     "output_type": "stream",
     "text": [
      "d:\\R2G\\OpenAI\\llm_venv\\Lib\\site-packages\\transformers\\tokenization_utils_base.py:1945: FutureWarning: Calling BertTokenizer.from_pretrained() with the path to a single file or url is deprecated and won't be possible anymore in v5. Use a model identifier or the path to a directory instead.\n",
      "  warnings.warn(\n"
     ]
    }
   ],
   "source": [
    "tokenizer = BertTokenizer.from_pretrained('./bert_tokenizer/bert-movie_corp-vocab.txt', local_files_only=True)\n",
    "data = BERTDataset(pairs, tokenizer=tokenizer)"
   ]
  },
  {
   "cell_type": "code",
   "execution_count": 6,
   "metadata": {},
   "outputs": [
    {
     "name": "stdout",
     "output_type": "stream",
     "text": [
      "Data extracted by get_sentence_pair method:\n",
      "('Can we make this quick? Roxanne Korrine and Andrew Barrett are having an incredibly horrendous public break- up on the quad. Again.', \"Well, I thought we'd start with pronunciation, if that's okay with you.\")\n",
      "Corresponding pair:\n",
      "['Can we make this quick? Roxanne Korrine and Andrew Barrett are having an incredibly horrendous public break- up on the quad. Again.', \"Well, I thought we'd start with pronunciation, if that's okay with you.\"]\n"
     ]
    }
   ],
   "source": [
    "print(f\"Data extracted by get_sentence_pair method:\\n{data.get_sentence_pair(0)}\")\n",
    "print(f\"Corresponding pair:\\n{pairs[0]}\")"
   ]
  },
  {
   "cell_type": "code",
   "execution_count": 7,
   "metadata": {},
   "outputs": [
    {
     "name": "stdout",
     "output_type": "stream",
     "text": [
      "Randomly picked sentence2:\n",
      "They still hang women in Canada, I've heard.\n"
     ]
    }
   ],
   "source": [
    "print(f\"Randomly picked sentence2:\\n{data.get_random_line()}\")"
   ]
  },
  {
   "cell_type": "code",
   "execution_count": 8,
   "metadata": {},
   "outputs": [
    {
     "data": {
      "text/plain": [
       "('Can we make this quick? Roxanne Korrine and Andrew Barrett are having an incredibly horrendous public break- up on the quad. Again.',\n",
       " \"Well, I thought we'd start with pronunciation, if that's okay with you.\",\n",
       " 1)"
      ]
     },
     "execution_count": 8,
     "metadata": {},
     "output_type": "execute_result"
    }
   ],
   "source": [
    "data.create_sentence_pair(0)"
   ]
  },
  {
   "cell_type": "code",
   "execution_count": 9,
   "metadata": {},
   "outputs": [
    {
     "data": {
      "text/plain": [
       "('Can we make this quick? Roxanne Korrine and Andrew Barrett are having an incredibly horrendous public break- up on the quad. Again.',\n",
       " 'What kind of vacation?',\n",
       " 0)"
      ]
     },
     "execution_count": 9,
     "metadata": {},
     "output_type": "execute_result"
    }
   ],
   "source": [
    "data.create_sentence_pair(0)"
   ]
  },
  {
   "cell_type": "code",
   "execution_count": 10,
   "metadata": {},
   "outputs": [
    {
     "name": "stdout",
     "output_type": "stream",
     "text": [
      "['Can', 'we', 'make', 'this', 'quick?', 'Roxanne', 'Korrine', 'and', 'Andrew', 'Barrett', 'are', 'having', 'an', 'incredibly', 'horrendous', 'public', 'break-', 'up', 'on', 'the', 'quad.', 'Again.']\n"
     ]
    }
   ],
   "source": [
    "s1, s2, label = data.create_sentence_pair(0)\n",
    "tokens = s1.split()\n",
    "print(tokens)"
   ]
  },
  {
   "cell_type": "code",
   "execution_count": 19,
   "metadata": {},
   "outputs": [],
   "source": [
    "import random\n",
    "tokens = s1.split()\n",
    "output_label = []\n",
    "output = []\n",
    "\n",
    "for i, token in enumerate(tokens):\n",
    "    probability = random.random()\n",
    "    # Removing [CLS] and [SEP] tokens\n",
    "    token_id = tokenizer(token)['input_ids'][1:-1]\n",
    "    if probability < 0.15:\n",
    "        probability /= 0.15\n",
    "        if probability < 0.8:\n",
    "            # replace ith token with [MASK] 80% of the time \n",
    "            for i in range(len(token_id)):\n",
    "                output.append(tokenizer.vocab['[MASK]'])  \n",
    "        elif probability < 0.9:\n",
    "            # replace ith token with random token 10% of the time\n",
    "            for i in range(len(token_id)):\n",
    "                output.append(random.randint(0, len(tokenizer.vocab)-1))\n",
    "        else:\n",
    "            # keep the ith token unchanged 10% of the time\n",
    "            output.append(token_id)\n",
    "        output_label.append(token_id)\n",
    "    else:\n",
    "        output.append(token_id)\n",
    "        for i in range(len(token_id)):\n",
    "            output_label.append(0)"
   ]
  },
  {
   "cell_type": "code",
   "execution_count": 20,
   "metadata": {},
   "outputs": [
    {
     "name": "stdout",
     "output_type": "stream",
     "text": [
      "[[230], [184], [432], [208], [1712, 34], [529, 118, 13347], [8260, 11002], [179], [5195], [12825], [234], [1133], [160], [6997], 2, 2, 2, [1994], 2, 2, 10082, [192], [150], [8115, 17], [542, 17]]\n",
      "[0, 0, 0, 0, 0, 0, 0, 0, 0, 0, 0, 0, 0, 0, 0, 0, 0, 0, [4953, 19513, 313], 0, [1023, 16], [275], 0, 0, 0, 0, 0, 0]\n",
      "[230, 184, 432, 208, 1712, 34, 529, 118, 13347, 8260, 11002, 179, 5195, 12825, 234, 1133, 160, 6997, 2, 2, 2, 1994, 2, 2, 10082, 192, 150, 8115, 17, 542, 17]\n",
      "[0, 0, 0, 0, 0, 0, 0, 0, 0, 0, 0, 0, 0, 0, 0, 0, 0, 0, 4953, 19513, 313, 0, 1023, 16, 275, 0, 0, 0, 0, 0, 0]\n"
     ]
    }
   ],
   "source": [
    "print(output)\n",
    "print(output_label)\n",
    "# Needs to be flattened into a single list\n",
    "import itertools\n",
    "output_flat = list(itertools.chain(*[[x] if not isinstance(x, list) else x for x in output]))\n",
    "output_label_flat = list(itertools.chain(*[[x] if not isinstance(x, list) else x for x in output_label]))\n",
    "print(output_flat)\n",
    "print(output_label_flat)"
   ]
  },
  {
   "cell_type": "code",
   "execution_count": 21,
   "metadata": {},
   "outputs": [
    {
     "name": "stdout",
     "output_type": "stream",
     "text": [
      "Actual sentence:\n",
      "Can we make this quick? Roxanne Korrine and Andrew Barrett are having an incredibly horrendous public break- up on the quad. Again.\n",
      "\n",
      "Reconstructed sentence with [MASK]:\n",
      "can we make this quick ? ro ##x ##anne kor ##rine and andrew barrett are having an incredibly [MASK] [MASK] [MASK] public [MASK] [MASK] conductor on the quad . again .\n",
      "\n",
      "Reconstructed original sentence:\n",
      "can we make this quick ? ro ##x ##anne kor ##rine and andrew barrett are having an incredibly horr ##endo ##us public break - up on the quad . again .\n"
     ]
    }
   ],
   "source": [
    "output_words = tokenizer.convert_ids_to_tokens(output_flat)\n",
    "output_label_words = tokenizer.convert_ids_to_tokens(output_label_flat)\n",
    "\n",
    "reconstructed_sentence_with_mask = ' '.join(output_words)\n",
    "\n",
    "reconstructed_original_sentence = []\n",
    "for token_id, label_id in zip(output_flat, output_label_flat):\n",
    "    if label_id == 0:\n",
    "        reconstructed_original_sentence.append(tokenizer.convert_ids_to_tokens([token_id])[0])\n",
    "    else:\n",
    "        reconstructed_original_sentence.append(tokenizer.convert_ids_to_tokens([label_id])[0])\n",
    "reconstructed_original_sentence = ' '.join(reconstructed_original_sentence)\n",
    "\n",
    "print(f\"Actual sentence:\\n{s1}\\n\")\n",
    "print(f\"Reconstructed sentence with [MASK]:\\n{reconstructed_sentence_with_mask}\\n\")\n",
    "print(f\"Reconstructed original sentence:\\n{reconstructed_original_sentence}\")"
   ]
  },
  {
   "cell_type": "markdown",
   "metadata": {},
   "source": [
    "#### Validate BERTDataset class"
   ]
  },
  {
   "cell_type": "code",
   "execution_count": 63,
   "metadata": {},
   "outputs": [
    {
     "name": "stdout",
     "output_type": "stream",
     "text": [
      "tensor([    1,   276,   208,  3213,    15,    48,   316,     2,   274,   243,\n",
      "           17,     4,     2,   598, 17101,  8507,   230,   409,     2,  1156,\n",
      "           15,   220,  1210,   302,   184,     2,     2,     2,     2,   248,\n",
      "          184,   217,   153,     2,   194,  2443,   275,   150,     2,     2,\n",
      "            2,   153,   173,  1156,  5924,   146,   359,   386,   122,  1042,\n",
      "          253,    15,   179,   342, 16614, 20742,   100,    15,   255,   437,\n",
      "          183,  2664,   178,  3590,   153,  2365,   150,  5245,   546,   150,\n",
      "         4257,    17,   268,    11,    58,   173,     2,     2,   146,    15,\n",
      "         6253,    34,     4,     0,     0,     0,     0,     0,     0,     0,\n",
      "            0,     0,     0,     0,     0,     0,     0,     0,     0,     0,\n",
      "            0,     0,     0,     0,     0,     0,     0,     0,     0,     0,\n",
      "            0,     0,     0,     0,     0,     0,     0,     0,     0,     0,\n",
      "            0,     0,     0,     0,     0,     0,     0,     0,     0,     0,\n",
      "            0,     0,     0,     0,     0,     0,     0,     0,     0,     0,\n",
      "            0,     0,     0,     0,     0,     0,     0,     0,     0,     0,\n",
      "            0,     0,     0,     0,     0,     0,     0,     0,     0,     0,\n",
      "            0,     0,     0,     0,     0,     0,     0,     0,     0,     0,\n",
      "            0,     0,     0,     0,     0,     0,     0,     0,     0,     0,\n",
      "            0,     0,     0,     0,     0,     0,     0,     0,     0,     0,\n",
      "            0,     0,     0,     0,     0,     0,     0,     0,     0,     0,\n",
      "            0,     0,     0,     0,     0,     0,     0,     0,     0,     0,\n",
      "            0,     0,     0,     0,     0,     0,     0,     0,     0,     0,\n",
      "            0,     0,     0,     0,     0,     0,     0,     0,     0,     0,\n",
      "            0,     0,     0,     0,     0,     0,     0,     0,     0,     0,\n",
      "            0,     0,     0,     0,     0,     0,     0,     0,     0,     0,\n",
      "            0,     0,     0,     0,     0,     0])\n",
      "tensor([    0,     0,     0,     0,     0,     0,     0,  1900,     0,     0,\n",
      "            0,     0,   270,     0,     0,     0,     0,     0,   192,     0,\n",
      "            0,     0,     0,     0,     0,   230,    11,    59,    17,     0,\n",
      "            0,     0,     0,   187,     0,     0,     0,   150, 19144,    97,\n",
      "         7519,     0,     0,     0,     0,     0,     0,     0,     0,     0,\n",
      "            0,     0,     0,     0,     0,     0,     0,     0,     0,     0,\n",
      "            0,     0,     0,     0,     0,     0,     0,     0,     0,     0,\n",
      "            0,     0,     0,     0,     0,     0,   957,   153,     0,     0,\n",
      "            0,     0,     0,     0,     0,     0,     0,     0,     0,     0,\n",
      "            0,     0,     0,     0,     0,     0,     0,     0,     0,     0,\n",
      "            0,     0,     0,     0,     0,     0,     0,     0,     0,     0,\n",
      "            0,     0,     0,     0,     0,     0,     0,     0,     0,     0,\n",
      "            0,     0,     0,     0,     0,     0,     0,     0,     0,     0,\n",
      "            0,     0,     0,     0,     0,     0,     0,     0,     0,     0,\n",
      "            0,     0,     0,     0,     0,     0,     0,     0,     0,     0,\n",
      "            0,     0,     0,     0,     0,     0,     0,     0,     0,     0,\n",
      "            0,     0,     0,     0,     0,     0,     0,     0,     0,     0,\n",
      "            0,     0,     0,     0,     0,     0,     0,     0,     0,     0,\n",
      "            0,     0,     0,     0,     0,     0,     0,     0,     0,     0,\n",
      "            0,     0,     0,     0,     0,     0,     0,     0,     0,     0,\n",
      "            0,     0,     0,     0,     0,     0,     0,     0,     0,     0,\n",
      "            0,     0,     0,     0,     0,     0,     0,     0,     0,     0,\n",
      "            0,     0,     0,     0,     0,     0,     0,     0,     0,     0,\n",
      "            0,     0,     0,     0,     0,     0,     0,     0,     0,     0,\n",
      "            0,     0,     0,     0,     0,     0,     0,     0,     0,     0,\n",
      "            0,     0,     0,     0,     0,     0])\n",
      "tensor([1, 1, 1, 1, 1, 1, 1, 1, 1, 1, 1, 1, 2, 2, 2, 2, 2, 2, 2, 2, 2, 2, 2, 2,\n",
      "        2, 2, 2, 2, 2, 2, 2, 2, 2, 2, 2, 2, 2, 2, 2, 2, 2, 2, 2, 2, 2, 2, 2, 2,\n",
      "        2, 2, 2, 2, 2, 2, 2, 2, 2, 2, 2, 2, 2, 2, 2, 2, 2, 2, 2, 2, 2, 2, 2, 2,\n",
      "        2, 2, 2, 2, 2, 2, 2, 2, 2, 2, 2, 0, 0, 0, 0, 0, 0, 0, 0, 0, 0, 0, 0, 0,\n",
      "        0, 0, 0, 0, 0, 0, 0, 0, 0, 0, 0, 0, 0, 0, 0, 0, 0, 0, 0, 0, 0, 0, 0, 0,\n",
      "        0, 0, 0, 0, 0, 0, 0, 0, 0, 0, 0, 0, 0, 0, 0, 0, 0, 0, 0, 0, 0, 0, 0, 0,\n",
      "        0, 0, 0, 0, 0, 0, 0, 0, 0, 0, 0, 0, 0, 0, 0, 0, 0, 0, 0, 0, 0, 0, 0, 0,\n",
      "        0, 0, 0, 0, 0, 0, 0, 0, 0, 0, 0, 0, 0, 0, 0, 0, 0, 0, 0, 0, 0, 0, 0, 0,\n",
      "        0, 0, 0, 0, 0, 0, 0, 0, 0, 0, 0, 0, 0, 0, 0, 0, 0, 0, 0, 0, 0, 0, 0, 0,\n",
      "        0, 0, 0, 0, 0, 0, 0, 0, 0, 0, 0, 0, 0, 0, 0, 0, 0, 0, 0, 0, 0, 0, 0, 0,\n",
      "        0, 0, 0, 0, 0, 0, 0, 0, 0, 0, 0, 0, 0, 0, 0, 0])\n",
      "tensor(1)\n"
     ]
    }
   ],
   "source": [
    "dataset = BERTDataset(pairs, tokenizer)\n",
    "data_loader = DataLoader(dataset, batch_size=32, shuffle=True, pin_memory=True)                               \n",
    "sample_data = next(iter(data_loader))\n",
    "idx = 23\n",
    "print(sample_data['bert_input'][idx])\n",
    "print(sample_data['bert_label'][idx])\n",
    "print(sample_data['segment_label'][idx])\n",
    "print(sample_data['is_consecutive'][idx])"
   ]
  },
  {
   "cell_type": "code",
   "execution_count": 69,
   "metadata": {},
   "outputs": [
    {
     "name": "stdout",
     "output_type": "stream",
     "text": [
      "tensor([    1,   276,   208,  3213,    15,    48,   316,     2,   274,   243,\n",
      "           17,     4,     2,   598, 17101,  8507,   230,   409,     2,  1156,\n",
      "           15,   220,  1210,   302,   184,     2,     2,     2,     2,   248,\n",
      "          184,   217,   153,     2,   194,  2443,   275,   150,     2,     2,\n",
      "            2,   153,   173,  1156,  5924,   146,   359,   386,   122,  1042,\n",
      "          253,    15,   179,   342, 16614, 20742,   100,    15,   255,   437,\n",
      "          183,  2664,   178,  3590,   153,  2365,   150,  5245,   546,   150,\n",
      "         4257,    17,   268,    11,    58,   173,     2,     2,   146,    15,\n",
      "         6253,    34,     4,     0,     0,     0,     0,     0,     0,     0,\n",
      "            0,     0,     0,     0,     0,     0,     0,     0,     0,     0,\n",
      "            0,     0,     0,     0,     0,     0,     0,     0,     0,     0,\n",
      "            0,     0,     0,     0,     0,     0,     0,     0,     0,     0,\n",
      "            0,     0,     0,     0,     0,     0,     0,     0,     0,     0,\n",
      "            0,     0,     0,     0,     0,     0,     0,     0,     0,     0,\n",
      "            0,     0,     0,     0,     0,     0,     0,     0,     0,     0,\n",
      "            0,     0,     0,     0,     0,     0,     0,     0,     0,     0,\n",
      "            0,     0,     0,     0,     0,     0,     0,     0,     0,     0,\n",
      "            0,     0,     0,     0,     0,     0,     0,     0,     0,     0,\n",
      "            0,     0,     0,     0,     0,     0,     0,     0,     0,     0,\n",
      "            0,     0,     0,     0,     0,     0,     0,     0,     0,     0,\n",
      "            0,     0,     0,     0,     0,     0,     0,     0,     0,     0,\n",
      "            0,     0,     0,     0,     0,     0,     0,     0,     0,     0,\n",
      "            0,     0,     0,     0,     0,     0,     0,     0,     0,     0,\n",
      "            0,     0,     0,     0,     0,     0,     0,     0,     0,     0,\n",
      "            0,     0,     0,     0,     0,     0,     0,     0,     0,     0,\n",
      "            0,     0,     0,     0,     0,     0])\n",
      "tensor([    0,     0,     0,     0,     0,     0,     0,  1900,     0,     0,\n",
      "            0,     0,   270,     0,     0,     0,     0,     0,   192,     0,\n",
      "            0,     0,     0,     0,     0,   230,    11,    59,    17,     0,\n",
      "            0,     0,     0,   187,     0,     0,     0,   150, 19144,    97,\n",
      "         7519,     0,     0,     0,     0,     0,     0,     0,     0,     0,\n",
      "            0,     0,     0,     0,     0,     0,     0,     0,     0,     0,\n",
      "            0,     0,     0,     0,     0,     0,     0,     0,     0,     0,\n",
      "            0,     0,     0,     0,     0,     0,   957,   153,     0,     0,\n",
      "            0,     0,     0,     0,     0,     0,     0,     0,     0,     0,\n",
      "            0,     0,     0,     0,     0,     0,     0,     0,     0,     0,\n",
      "            0,     0,     0,     0,     0,     0,     0,     0,     0,     0,\n",
      "            0,     0,     0,     0,     0,     0,     0,     0,     0,     0,\n",
      "            0,     0,     0,     0,     0,     0,     0,     0,     0,     0,\n",
      "            0,     0,     0,     0,     0,     0,     0,     0,     0,     0,\n",
      "            0,     0,     0,     0,     0,     0,     0,     0,     0,     0,\n",
      "            0,     0,     0,     0,     0,     0,     0,     0,     0,     0,\n",
      "            0,     0,     0,     0,     0,     0,     0,     0,     0,     0,\n",
      "            0,     0,     0,     0,     0,     0,     0,     0,     0,     0,\n",
      "            0,     0,     0,     0,     0,     0,     0,     0,     0,     0,\n",
      "            0,     0,     0,     0,     0,     0,     0,     0,     0,     0,\n",
      "            0,     0,     0,     0,     0,     0,     0,     0,     0,     0,\n",
      "            0,     0,     0,     0,     0,     0,     0,     0,     0,     0,\n",
      "            0,     0,     0,     0,     0,     0,     0,     0,     0,     0,\n",
      "            0,     0,     0,     0,     0,     0,     0,     0,     0,     0,\n",
      "            0,     0,     0,     0,     0,     0,     0,     0,     0,     0,\n",
      "            0,     0,     0,     0,     0,     0])\n",
      "tensor([1, 1, 1, 1, 1, 1, 1, 1, 1, 1, 1, 1, 2, 2, 2, 2, 2, 2, 2, 2, 2, 2, 2, 2,\n",
      "        2, 2, 2, 2, 2, 2, 2, 2, 2, 2, 2, 2, 2, 2, 2, 2, 2, 2, 2, 2, 2, 2, 2, 2,\n",
      "        2, 2, 2, 2, 2, 2, 2, 2, 2, 2, 2, 2, 2, 2, 2, 2, 2, 2, 2, 2, 2, 2, 2, 2,\n",
      "        2, 2, 2, 2, 2, 2, 2, 2, 2, 2, 2, 0, 0, 0, 0, 0, 0, 0, 0, 0, 0, 0, 0, 0,\n",
      "        0, 0, 0, 0, 0, 0, 0, 0, 0, 0, 0, 0, 0, 0, 0, 0, 0, 0, 0, 0, 0, 0, 0, 0,\n",
      "        0, 0, 0, 0, 0, 0, 0, 0, 0, 0, 0, 0, 0, 0, 0, 0, 0, 0, 0, 0, 0, 0, 0, 0,\n",
      "        0, 0, 0, 0, 0, 0, 0, 0, 0, 0, 0, 0, 0, 0, 0, 0, 0, 0, 0, 0, 0, 0, 0, 0,\n",
      "        0, 0, 0, 0, 0, 0, 0, 0, 0, 0, 0, 0, 0, 0, 0, 0, 0, 0, 0, 0, 0, 0, 0, 0,\n",
      "        0, 0, 0, 0, 0, 0, 0, 0, 0, 0, 0, 0, 0, 0, 0, 0, 0, 0, 0, 0, 0, 0, 0, 0,\n",
      "        0, 0, 0, 0, 0, 0, 0, 0, 0, 0, 0, 0, 0, 0, 0, 0, 0, 0, 0, 0, 0, 0, 0, 0,\n",
      "        0, 0, 0, 0, 0, 0, 0, 0, 0, 0, 0, 0, 0, 0, 0, 0])\n",
      "tensor(1)\n"
     ]
    }
   ],
   "source": [
    "print(sample_data['bert_input'][idx])\n",
    "print(sample_data['bert_label'][idx])\n",
    "print(sample_data['segment_label'][idx])\n",
    "print(sample_data['is_consecutive'][idx])"
   ]
  },
  {
   "cell_type": "code",
   "execution_count": 70,
   "metadata": {},
   "outputs": [
    {
     "name": "stdout",
     "output_type": "stream",
     "text": [
      "Reconstructed sentence with [MASK]:\n",
      "[CLS] at this size , i would [MASK] think so . [SEP] [MASK] those corpus ##cles can take [MASK] air , no reason why we [MASK] [MASK] [MASK] [MASK] all we have to [MASK] is hook up the [MASK] [MASK] [MASK] to that air chamber you were talk ##1 ##ng about , and when benes inhale ##s , there should be plenty of pressure to force the oxygen into the tank . how ' s that [MASK] [MASK] you , skipper ? [SEP] [PAD] [PAD] [PAD] [PAD] [PAD] [PAD] [PAD] [PAD] [PAD] [PAD] [PAD] [PAD] [PAD] [PAD] [PAD] [PAD] [PAD] [PAD] [PAD] [PAD] [PAD] [PAD] [PAD] [PAD] [PAD] [PAD] [PAD] [PAD] [PAD] [PAD] [PAD] [PAD] [PAD] [PAD] [PAD] [PAD] [PAD] [PAD] [PAD] [PAD] [PAD] [PAD] [PAD] [PAD] [PAD] [PAD] [PAD] [PAD] [PAD] [PAD] [PAD] [PAD] [PAD] [PAD] [PAD] [PAD] [PAD] [PAD] [PAD] [PAD] [PAD] [PAD] [PAD] [PAD] [PAD] [PAD] [PAD] [PAD] [PAD] [PAD] [PAD] [PAD] [PAD] [PAD] [PAD] [PAD] [PAD] [PAD] [PAD] [PAD] [PAD] [PAD] [PAD] [PAD] [PAD] [PAD] [PAD] [PAD] [PAD] [PAD] [PAD] [PAD] [PAD] [PAD] [PAD] [PAD] [PAD] [PAD] [PAD] [PAD] [PAD] [PAD] [PAD] [PAD] [PAD] [PAD] [PAD] [PAD] [PAD] [PAD] [PAD] [PAD] [PAD] [PAD] [PAD] [PAD] [PAD] [PAD] [PAD] [PAD] [PAD] [PAD] [PAD] [PAD] [PAD] [PAD] [PAD] [PAD] [PAD] [PAD] [PAD] [PAD] [PAD] [PAD] [PAD] [PAD] [PAD] [PAD] [PAD] [PAD] [PAD] [PAD] [PAD] [PAD] [PAD] [PAD] [PAD] [PAD] [PAD] [PAD] [PAD] [PAD] [PAD] [PAD] [PAD] [PAD] [PAD] [PAD] [PAD] [PAD] [PAD] [PAD] [PAD] [PAD] [PAD] [PAD] [PAD] [PAD] [PAD] [PAD] [PAD] [PAD] [PAD]\n",
      "\n",
      "Reconstructed original sentence:\n",
      "[CLS] at this size , i would certainly think so . [SEP] if those corpus ##cles can take on air , no reason why we can ' t . all we have to do is hook up the sno ##r ##kel to that air chamber you were talk ##1 ##ng about , and when benes inhale ##s , there should be plenty of pressure to force the oxygen into the tank . how ' s that sound to you , skipper ? [SEP] [PAD] [PAD] [PAD] [PAD] [PAD] [PAD] [PAD] [PAD] [PAD] [PAD] [PAD] [PAD] [PAD] [PAD] [PAD] [PAD] [PAD] [PAD] [PAD] [PAD] [PAD] [PAD] [PAD] [PAD] [PAD] [PAD] [PAD] [PAD] [PAD] [PAD] [PAD] [PAD] [PAD] [PAD] [PAD] [PAD] [PAD] [PAD] [PAD] [PAD] [PAD] [PAD] [PAD] [PAD] [PAD] [PAD] [PAD] [PAD] [PAD] [PAD] [PAD] [PAD] [PAD] [PAD] [PAD] [PAD] [PAD] [PAD] [PAD] [PAD] [PAD] [PAD] [PAD] [PAD] [PAD] [PAD] [PAD] [PAD] [PAD] [PAD] [PAD] [PAD] [PAD] [PAD] [PAD] [PAD] [PAD] [PAD] [PAD] [PAD] [PAD] [PAD] [PAD] [PAD] [PAD] [PAD] [PAD] [PAD] [PAD] [PAD] [PAD] [PAD] [PAD] [PAD] [PAD] [PAD] [PAD] [PAD] [PAD] [PAD] [PAD] [PAD] [PAD] [PAD] [PAD] [PAD] [PAD] [PAD] [PAD] [PAD] [PAD] [PAD] [PAD] [PAD] [PAD] [PAD] [PAD] [PAD] [PAD] [PAD] [PAD] [PAD] [PAD] [PAD] [PAD] [PAD] [PAD] [PAD] [PAD] [PAD] [PAD] [PAD] [PAD] [PAD] [PAD] [PAD] [PAD] [PAD] [PAD] [PAD] [PAD] [PAD] [PAD] [PAD] [PAD] [PAD] [PAD] [PAD] [PAD] [PAD] [PAD] [PAD] [PAD] [PAD] [PAD] [PAD] [PAD] [PAD] [PAD] [PAD] [PAD] [PAD] [PAD] [PAD] [PAD] [PAD] [PAD] [PAD] [PAD] [PAD] [PAD] [PAD] [PAD]\n",
      "1\n"
     ]
    }
   ],
   "source": [
    "output_words = tokenizer.convert_ids_to_tokens(sample_data['bert_input'][idx].numpy().tolist())\n",
    "reconstructed_sentence_with_mask = ' '.join(output_words)\n",
    "\n",
    "reconstructed_original_sentence = []\n",
    "for token_id, label_id in zip(sample_data['bert_input'][idx], sample_data['bert_label'][idx]):\n",
    "    if label_id == 0:\n",
    "        reconstructed_original_sentence.append(tokenizer.convert_ids_to_tokens([token_id])[0])\n",
    "    else:\n",
    "        reconstructed_original_sentence.append(tokenizer.convert_ids_to_tokens([label_id])[0])\n",
    "reconstructed_original_sentence = ' '.join(reconstructed_original_sentence)\n",
    "\n",
    "print(f\"Reconstructed sentence with [MASK]:\\n{reconstructed_sentence_with_mask}\\n\")\n",
    "print(f\"Reconstructed original sentence:\\n{reconstructed_original_sentence}\")\n",
    "print(sample_data['is_consecutive'][idx].numpy())"
   ]
  },
  {
   "cell_type": "markdown",
   "metadata": {},
   "source": [
    "#### Embedding validation"
   ]
  },
  {
   "cell_type": "code",
   "execution_count": 150,
   "metadata": {},
   "outputs": [
    {
     "name": "stdout",
     "output_type": "stream",
     "text": [
      "torch.Size([32, 256, 768])\n"
     ]
    }
   ],
   "source": [
    "import os\n",
    "import sys\n",
    "root_dir = os.path.abspath(os.path.join(os.getcwd())) \n",
    "sys.path.insert(0, root_dir)\n",
    "\n",
    "# model_dir = os.path.abspath(os.path.join(os.getcwd(),  'model')) \n",
    "# sys.path.insert(0, model_dir)\n",
    "import importlib\n",
    "from model import layers\n",
    "importlib.reload(layers) \n",
    "from model.layers import BERTEmbedding\n",
    "\n",
    "from config import SEQ_LEN\n",
    "embeddings_layer = BERTEmbedding(vocab_size=len(tokenizer.vocab), embed_size=768, seq_len=SEQ_LEN, debug=True)\n",
    "embedding, pos_emb_test = embeddings_layer(sample_data[\"bert_input\"], sample_data[\"segment_label\"])\n",
    "print(embedding.shape)"
   ]
  },
  {
   "cell_type": "code",
   "execution_count": 151,
   "metadata": {},
   "outputs": [
    {
     "data": {
      "image/png": "[encoded data removed]",
      "text/plain": [
       "<Figure size 2000x1200 with 1 Axes>"
      ]
     },
     "metadata": {},
     "output_type": "display_data"
    }
   ],
   "source": [
    "import matplotlib.pyplot as plt\n",
    "# Shape: (batch_size, seq_len, embed_size)\n",
    "batch_index = 25\n",
    "pos_emb_np = pos_emb_test.detach().numpy()\n",
    "plt.figure(figsize=(20, 12))\n",
    "plt.imshow(pos_emb_np[batch_index, :, :], cmap='hot', interpolation='nearest')\n",
    "plt.title(f'Positional Embeddings for Batch Index {batch_index}')\n",
    "plt.xlabel('Embedding Dimension')\n",
    "plt.ylabel('Sequence Position')\n",
    "plt.show()"
   ]
  },
  {
   "cell_type": "code",
   "execution_count": null,
   "metadata": {},
   "outputs": [],
   "source": []
  }
 ],
 "metadata": {
  "kernelspec": {
   "display_name": "llm_venv",
   "language": "python",
   "name": "llm_venv"
  },
  "language_info": {
   "codemirror_mode": {
    "name": "ipython",
    "version": 3
   },
   "file_extension": ".py",
   "mimetype": "text/x-python",
   "name": "python",
   "nbconvert_exporter": "python",
   "pygments_lexer": "ipython3",
   "version": "3.11.0"
  }
 },
 "nbformat": 4,
 "nbformat_minor": 2
}
